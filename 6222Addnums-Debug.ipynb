{
 "cells": [
  {
   "cell_type": "markdown",
   "id": "a66a4d1c-27bb-410d-83c0-4fb615586474",
   "metadata": {},
   "source": [
    "## Debug Example\n",
    "### Load Error at address x3003"
   ]
  },
  {
   "cell_type": "code",
   "execution_count": 78,
   "id": "5b11d152-0e1b-4274-9004-7c36ab545b1d",
   "metadata": {},
   "outputs": [
    {
     "name": "stdout",
     "output_type": "stream",
     "text": [
      "Assembled! Use %dis or %dump to examine; use %exe to run.\n"
     ]
    }
   ],
   "source": [
    "; 0011 0000 0000 0000\t    ; start the program at location x3000\n",
    "0101 001 001 1 00000\t; 3000  ;clear R1, to be used for returning the sum\n",
    "0101 100 100 1 00000\t; 3001  ;clear R4, to be used as a counter\n",
    "0001 100 100 1 01010\t; 3002  ;load R4 with #10, the number of times to add\n",
    "0010 010 011111100\t    ; 3003  ;load the starting address of the data\n",
    "0110 011 010 000000\t    ; 3004  ;load the next number to be added\n",
    "0001 010 010 1 00001\t; 3005  ;increment the pointer\n",
    "0001 001 001 0 00 011\t; 3006  ;add the next number to the running sum\n",
    "0001 100 100 111111\t    ; 3007  ;decrement the counter\n",
    "0000 001 111111011\t    ; 3008  ;do it again if the counter is not yet zero\n",
    "1111 0000 00100101\t    ; 3009  ;halt"
   ]
  },
  {
   "cell_type": "code",
   "execution_count": 79,
   "id": "fb19b92b-afef-4715-b9a5-abd60342af63",
   "metadata": {
    "tags": []
   },
   "outputs": [
    {
     "name": "stdout",
     "output_type": "stream",
     "text": [
      "============================================================\n",
      "Memory dump:\n",
      "============================================================\n",
      "           x3000: x5260\n",
      "           x3001: x5920\n",
      "           x3002: x192A\n",
      "           x3003: x24FC\n",
      "           x3004: x6680\n",
      "           x3005: x14A1\n",
      "           x3006: x1243\n",
      "           x3007: x193F\n",
      "           x3008: x03FB\n",
      "           x3009: xF025\n",
      "           x300A: x0000\n"
     ]
    }
   ],
   "source": [
    "%dump x3000 x300A"
   ]
  },
  {
   "cell_type": "code",
   "execution_count": 80,
   "id": "6c9a69d0-dfda-4d54-afe7-798587aef3af",
   "metadata": {},
   "outputs": [
    {
     "name": "stdout",
     "output_type": "stream",
     "text": [
      "============================================================\n",
      "Memory dump:\n",
      "============================================================\n",
      "           x3100: x0001\n"
     ]
    }
   ],
   "source": [
    "%mem x3100 x0001\n"
   ]
  },
  {
   "cell_type": "code",
   "execution_count": 81,
   "id": "8285a5ac-6d4c-4fce-8cd5-24a327c24d56",
   "metadata": {},
   "outputs": [
    {
     "name": "stdout",
     "output_type": "stream",
     "text": [
      "============================================================\n",
      "Memory dump:\n",
      "============================================================\n",
      "           x3101: x0002\n"
     ]
    }
   ],
   "source": [
    "%mem x3101 x0002"
   ]
  },
  {
   "cell_type": "code",
   "execution_count": 82,
   "id": "3e893077-6912-434d-8249-65a9643fb918",
   "metadata": {},
   "outputs": [
    {
     "name": "stdout",
     "output_type": "stream",
     "text": [
      "============================================================\n",
      "Memory dump:\n",
      "============================================================\n",
      "           x3102: x0003\n"
     ]
    }
   ],
   "source": [
    "%mem x3102 x0003"
   ]
  },
  {
   "cell_type": "code",
   "execution_count": 83,
   "id": "4b8ee009-4ede-407f-87b4-bada1f240092",
   "metadata": {},
   "outputs": [
    {
     "name": "stdout",
     "output_type": "stream",
     "text": [
      "============================================================\n",
      "Memory dump:\n",
      "============================================================\n",
      "           x3103: x0004\n"
     ]
    }
   ],
   "source": [
    "%mem x3103 x0004"
   ]
  },
  {
   "cell_type": "code",
   "execution_count": 84,
   "id": "3cc05dcd-7399-4973-9d74-0210583fe1f9",
   "metadata": {},
   "outputs": [
    {
     "name": "stdout",
     "output_type": "stream",
     "text": [
      "============================================================\n",
      "Memory dump:\n",
      "============================================================\n",
      "           x3104: x0005\n"
     ]
    }
   ],
   "source": [
    "%mem x3104 x0005"
   ]
  },
  {
   "cell_type": "code",
   "execution_count": 85,
   "id": "be269420-07d9-4055-81fc-d41912548552",
   "metadata": {},
   "outputs": [
    {
     "name": "stdout",
     "output_type": "stream",
     "text": [
      "============================================================\n",
      "Memory dump:\n",
      "============================================================\n",
      "           x3105: x0006\n"
     ]
    }
   ],
   "source": [
    "%mem x3105 x0006"
   ]
  },
  {
   "cell_type": "code",
   "execution_count": 86,
   "id": "4d365e5d-c5dd-4f58-8a0c-c1e6bb70e29d",
   "metadata": {},
   "outputs": [
    {
     "name": "stdout",
     "output_type": "stream",
     "text": [
      "============================================================\n",
      "Memory dump:\n",
      "============================================================\n",
      "           x3106: x0007\n"
     ]
    }
   ],
   "source": [
    "%mem x3106 x0007"
   ]
  },
  {
   "cell_type": "code",
   "execution_count": 87,
   "id": "8f2e631f-6a61-486e-895f-c644b839779f",
   "metadata": {},
   "outputs": [
    {
     "name": "stdout",
     "output_type": "stream",
     "text": [
      "============================================================\n",
      "Memory dump:\n",
      "============================================================\n",
      "           x3107: x0008\n"
     ]
    }
   ],
   "source": [
    "%mem x3107 x0008"
   ]
  },
  {
   "cell_type": "code",
   "execution_count": 88,
   "id": "6f26136a-5f17-4038-bb89-37d15152d403",
   "metadata": {},
   "outputs": [
    {
     "name": "stdout",
     "output_type": "stream",
     "text": [
      "============================================================\n",
      "Memory dump:\n",
      "============================================================\n",
      "           x3108: x0009\n"
     ]
    }
   ],
   "source": [
    "%mem x3108 x0009"
   ]
  },
  {
   "cell_type": "code",
   "execution_count": 89,
   "id": "111669bb-9435-4711-8b46-91db4fdcc4f5",
   "metadata": {},
   "outputs": [
    {
     "name": "stdout",
     "output_type": "stream",
     "text": [
      "============================================================\n",
      "Memory dump:\n",
      "============================================================\n",
      "           x3109: x000A\n"
     ]
    }
   ],
   "source": [
    "%mem x3109 x000A"
   ]
  },
  {
   "cell_type": "code",
   "execution_count": 90,
   "id": "f4ef358c-cb14-45fe-b44b-fcd20ef2b967",
   "metadata": {},
   "outputs": [
    {
     "name": "stdout",
     "output_type": "stream",
     "text": [
      "============================================================\n",
      "Memory dump:\n",
      "============================================================\n",
      "           x3100: x0001\n",
      "           x3101: x0002\n",
      "           x3102: x0003\n",
      "           x3103: x0004\n",
      "           x3104: x0005\n",
      "           x3105: x0006\n",
      "           x3106: x0007\n",
      "           x3107: x0008\n",
      "           x3108: x0009\n",
      "           x3109: x000A\n"
     ]
    }
   ],
   "source": [
    "%dump x3100 x3109"
   ]
  },
  {
   "cell_type": "code",
   "execution_count": 91,
   "id": "b323d5e2-f6c1-4edd-87a2-cf3da5a20ebb",
   "metadata": {},
   "outputs": [
    {
     "name": "stdout",
     "output_type": "stream",
     "text": [
      "\n",
      "============================================================\n",
      "Registers:\n",
      "============================================================\n",
      "PC: x300A\n",
      "N: 0 Z: 1 P: 0 \n",
      "R0: x0000 R1: x0000 R2: x0000 R3: x0000 \n",
      "R4: x0000 R5: x0000 R6: x0000 R7: x0000 \n"
     ]
    }
   ],
   "source": [
    "%regs"
   ]
  },
  {
   "cell_type": "code",
   "execution_count": 92,
   "id": "88f22ef5-4e80-4b3b-888a-064a080b9fe5",
   "metadata": {},
   "outputs": [
    {
     "name": "stdout",
     "output_type": "stream",
     "text": [
      "\n",
      "============================================================\n",
      "Registers:\n",
      "============================================================\n",
      "PC: x3000\n",
      "N: 0 Z: 1 P: 0 \n",
      "R0: x0000 R1: x0000 R2: x0000 R3: x0000 \n",
      "R4: x0000 R5: x0000 R6: x0000 R7: x0000 \n"
     ]
    }
   ],
   "source": [
    "%pc x3000"
   ]
  },
  {
   "cell_type": "code",
   "execution_count": 97,
   "id": "1671359b-6a4c-429a-b9fe-b3de25e8e0c2",
   "metadata": {},
   "outputs": [
    {
     "name": "stdout",
     "output_type": "stream",
     "text": [
      "============================================================\n",
      "Stepping...  => read, <= write, (Instructions/Cycles):\n",
      "============================================================\n",
      "    PC <= x3005\n",
      "(5/37) LDR R3, R2, 0 [6] (x3005*: x6680)\n",
      "  Reading memory[x0001] (x0495) =>\n",
      "    R3 <= x0495\n",
      "    NZP <= (0, 0, 1)\n",
      "\n",
      "============================================================\n",
      "Registers:\n",
      "============================================================\n",
      "PC: x3005\n",
      "N: 0 Z: 0 P: 1 \n",
      "R0: x0000 R1: x0000 R2: x0001 R3: x0495 \n",
      "R4: x000A R5: x0000 R6: x0000 R7: x0000 \n"
     ]
    }
   ],
   "source": [
    "%step"
   ]
  },
  {
   "cell_type": "code",
   "execution_count": null,
   "id": "e82d25bd-e5da-497a-a1b0-d0b66b588261",
   "metadata": {},
   "outputs": [],
   "source": []
  },
  {
   "cell_type": "code",
   "execution_count": 76,
   "id": "e187b3e2-ae0c-45f6-a479-04b93a97de0f",
   "metadata": {},
   "outputs": [
    {
     "name": "stdout",
     "output_type": "stream",
     "text": [
      "\n",
      "Welcome to the LC-3 simulator.\n",
      "\n",
      "The contents of the LC-3 tools distribution, including sources, management\n",
      "tools, and data, are Copyright (c) 2003 Steven S. Lumetta.\n",
      "\n",
      "The LC-3 tools distribution is free software covered by the GNU General\n",
      "Public License, and you are welcome to modify it and/or distribute copies\n",
      "of it under certain conditions.  The file COPYING (distributed with the\n",
      "tools) specifies those conditions.  There is absolutely no warranty for\n",
      "the LC-3 tools distribution, as described in the file NO_WARRANTY (also\n",
      "distributed with the tools).\n",
      "\n",
      "Have fun.\n",
      "\n",
      "============================================================\n",
      "Registers:\n",
      "============================================================\n",
      "PC: x3000\n",
      "N: 0 Z: 1 P: 0 \n",
      "R0: x0000 R1: x0000 R2: x0000 R3: x0000 \n",
      "R4: x0000 R5: x0000 R6: x0000 R7: x0000 \n"
     ]
    }
   ],
   "source": [
    "%reset"
   ]
  }
 ],
 "metadata": {
  "kernelspec": {
   "display_name": "Calysto LC3",
   "language": "asm",
   "name": "calysto_lc3"
  },
  "language_info": {
   "file_extension": ".asm",
   "mimetype": "text/x-gas",
   "name": "gas"
  }
 },
 "nbformat": 4,
 "nbformat_minor": 5
}
