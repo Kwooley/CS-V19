{
 "cells": [
  {
   "cell_type": "code",
   "execution_count": 52,
   "id": "6ae0a590-45f9-4ca1-9d78-0dafd7105677",
   "metadata": {},
   "outputs": [
    {
     "name": "stdout",
     "output_type": "stream",
     "text": [
      "Assembled! Use %dis or %dump to examine; use %exe to run.\n"
     ]
    }
   ],
   "source": [
    "    0101 011 011 1 00000 ;R3 = 0 ; x3000\n",
    "    0101 100 100 1 00000 ;R4 = 0\n",
    "    0101 101 101 1 00000 ;R5 = 0\n",
    "    1111 0000 0010 0011 ;TRAP x23\n",
    "    0001 011 000 1 00000 ;R3 = R0\n",
    "    1111 0000 0010 0011 ;TRAP x23\n",
    "    0001 100 000 1 00000 ;R4 = R0\n",
    "    1001 100 100 111111 ;NOT R4, R4\n",
    "    0001 100 100 1 00001 ;ADD R4, R4, #1   ; x3008\n",
    "    0001 011 100 0 00 011 ;ADD R3, R4, R3\n",
    "    0000 101 11111 1101 ;BRnp FALSE        ; x300A\n",
    "    0001 101 101 1 00001 ;ADD R5, R5, #1   ; x300B\n",
    "    0000 0000 0000 0000 ;FALSE             ; x300C\n",
    "    0010 110 0110 01100 ;LD R6 #3          ; x300D\n",
    "    0001 000 101 0 00 110 ;ADD R0, R5, R6\n",
    "    1111 0000 0010 0001 ;TRAP x21\n",
    "    1111 0000 0010 0101 ;HALT"
   ]
  },
  {
   "cell_type": "code",
   "execution_count": 54,
   "id": "e593540c-3604-41f7-a72f-d33f52a33702",
   "metadata": {},
   "outputs": [
    {
     "name": "stdout",
     "output_type": "stream",
     "text": [
      "============================================================\n",
      "Memory dump:\n",
      "============================================================\n",
      "           x3000: x56E0\n",
      "           x3001: x5920\n",
      "           x3002: x5B60\n",
      "           x3003: xF023\n",
      "           x3004: x1620\n",
      "           x3005: xF023\n",
      "           x3006: x1820\n",
      "           x3007: x993F\n",
      "           x3008: x1921\n",
      "           x3009: x1703\n",
      "           x300A: x0BFD\n",
      "           x300B: x1B61\n",
      "           x300C: x0000\n",
      "           x300D: x2CCC\n",
      "           x300E: x1146\n",
      "           x300F: xF021\n",
      "           x3010: xF025\n",
      "           x3011: x0030\n"
     ]
    }
   ],
   "source": [
    "%dis x3000 x3011"
   ]
  },
  {
   "cell_type": "code",
   "execution_count": 53,
   "id": "41adb311-724d-4fd6-8b1b-22cce862a130",
   "metadata": {},
   "outputs": [
    {
     "name": "stdout",
     "output_type": "stream",
     "text": [
      "============================================================\n",
      "Memory dump:\n",
      "============================================================\n",
      "           x3011: x0030\n"
     ]
    }
   ],
   "source": [
    "%mem x3011 x0030"
   ]
  },
  {
   "cell_type": "code",
   "execution_count": 55,
   "id": "cd550b84-7d90-48aa-8e85-2db10534d7a0",
   "metadata": {},
   "outputs": [
    {
     "name": "stdout",
     "output_type": "stream",
     "text": [
      "\n",
      "============================================================\n",
      "Registers:\n",
      "============================================================\n",
      "PC: x3000\n",
      "N: 0 Z: 1 P: 0 \n",
      "R0: x0000 R1: x0000 R2: x0000 R3: x0000 \n",
      "R4: x0000 R5: x0000 R6: x0000 R7: x0000 \n"
     ]
    }
   ],
   "source": [
    "%pc x3000"
   ]
  },
  {
   "cell_type": "code",
   "execution_count": 56,
   "id": "5f59ae77-5c20-4c26-aa4d-8f1da8a16320",
   "metadata": {},
   "outputs": [
    {
     "name": "stdout",
     "output_type": "stream",
     "text": [
      "\n",
      "============================================================\n",
      "Registers:\n",
      "============================================================\n",
      "PC: x3000\n",
      "N: 0 Z: 1 P: 0 \n",
      "R0: x0000 R1: x0000 R2: x0000 R3: x0000 \n",
      "R4: x0000 R5: x0000 R6: x0000 R7: x0000 \n"
     ]
    }
   ],
   "source": [
    "%regs"
   ]
  },
  {
   "cell_type": "code",
   "execution_count": 57,
   "id": "22714ad4-6559-48cd-ac67-b21ba216c2bd",
   "metadata": {},
   "outputs": [
    {
     "name": "stdout",
     "output_type": "stream",
     "text": [
      "============================================================\n",
      "Breakpoints\n",
      "============================================================\n",
      "    1)            x3010: xF025\n"
     ]
    }
   ],
   "source": [
    "%bp x3010"
   ]
  },
  {
   "cell_type": "code",
   "execution_count": 58,
   "id": "8c4e6535-bdc2-45ac-b820-9f43f15c0d1f",
   "metadata": {},
   "outputs": [
    {
     "name": "stdout",
     "output_type": "stream",
     "text": [
      "============================================================\n",
      "Breakpoints\n",
      "============================================================\n",
      "    1)            x3006: x1820\n",
      "    2)            x3010: xF025\n"
     ]
    }
   ],
   "source": [
    "%bp x3006"
   ]
  },
  {
   "cell_type": "markdown",
   "id": "457b92c3-3ec8-4a67-b9e9-a9cf1dd9a3ef",
   "metadata": {},
   "source": [
    "<p style=\"background-color:powderblue;\"> \n",
    "    Here is the step x300A\n",
    "    </p>\n",
    "You are going to x3008 after x300A. Is it true? \n",
    "<p style=\"background-color:tomato;\"> I think you should go to x300C or x300D </p>\n",
    "</body>"
   ]
  },
  {
   "cell_type": "code",
   "execution_count": 64,
   "id": "e65e37f9-65a0-4e50-b2f4-0f0cb4382df5",
   "metadata": {},
   "outputs": [
    {
     "name": "stdout",
     "output_type": "stream",
     "text": [
      "============================================================\n",
      "Stepping...  => read, <= write, (Instructions/Cycles):\n",
      "============================================================\n",
      "    PC <= x300B\n",
      "(527/4368) BRnp x3008  [11] (x300B*: x0BFD)\n",
      "    PC <= x3008\n",
      "    True - branching to x3008\n",
      "\n",
      "============================================================\n",
      "Registers:\n",
      "============================================================\n",
      "PC: x3008\n",
      "N: 1 Z: 0 P: 0 \n",
      "R0: x0034 R1: x0000 R2: x0000 R3: xFFFE \n",
      "R4: xFFCC R5: x0000 R6: x0000 R7: x3006 \n"
     ]
    }
   ],
   "source": [
    "%step"
   ]
  },
  {
   "cell_type": "code",
   "execution_count": 59,
   "id": "479a7d73-a040-4778-ab8c-0f0935612ce6",
   "metadata": {},
   "outputs": [
    {
     "name": "stdout",
     "output_type": "stream",
     "text": [
      "\n",
      "Input a character> "
     ]
    },
    {
     "name": "stdin",
     "output_type": "stream",
     "text": [
      " 2\n"
     ]
    },
    {
     "name": "stdout",
     "output_type": "stream",
     "text": [
      "2\n",
      "\n",
      "Input a character> "
     ]
    },
    {
     "name": "stdin",
     "output_type": "stream",
     "text": [
      " 4\n"
     ]
    },
    {
     "name": "stdout",
     "output_type": "stream",
     "text": [
      "4\n",
      "...breakpoint hit at x3006\n",
      "============================================================\n",
      "Computation SUSPENDED\n",
      "============================================================\n",
      "Instructions: 522\n",
      "Cycles: 4338 (0.002169 milliseconds)\n",
      "\n",
      "============================================================\n",
      "Registers:\n",
      "============================================================\n",
      "PC: x3006\n",
      "N: 0 Z: 0 P: 1 \n",
      "R0: x0034 R1: x0000 R2: x0000 R3: x0032 \n",
      "R4: x0000 R5: x0000 R6: x0000 R7: x3006 \n"
     ]
    }
   ],
   "source": [
    "%cont"
   ]
  },
  {
   "cell_type": "code",
   "execution_count": 51,
   "id": "0c64fb30-b04e-44bd-89db-2706a2936306",
   "metadata": {},
   "outputs": [
    {
     "name": "stdout",
     "output_type": "stream",
     "text": [
      "\n",
      "Welcome to the LC-3 simulator.\n",
      "\n",
      "The contents of the LC-3 tools distribution, including sources, management\n",
      "tools, and data, are Copyright (c) 2003 Steven S. Lumetta.\n",
      "\n",
      "The LC-3 tools distribution is free software covered by the GNU General\n",
      "Public License, and you are welcome to modify it and/or distribute copies\n",
      "of it under certain conditions.  The file COPYING (distributed with the\n",
      "tools) specifies those conditions.  There is absolutely no warranty for\n",
      "the LC-3 tools distribution, as described in the file NO_WARRANTY (also\n",
      "distributed with the tools).\n",
      "\n",
      "Have fun.\n",
      "\n",
      "============================================================\n",
      "Registers:\n",
      "============================================================\n",
      "PC: x3000\n",
      "N: 0 Z: 1 P: 0 \n",
      "R0: x0000 R1: x0000 R2: x0000 R3: x0000 \n",
      "R4: x0000 R5: x0000 R6: x0000 R7: x0000 \n"
     ]
    }
   ],
   "source": [
    "%reset"
   ]
  },
  {
   "cell_type": "code",
   "execution_count": 47,
   "id": "80451650-7d55-4aab-aaf3-410ca10983bc",
   "metadata": {},
   "outputs": [
    {
     "data": {
      "text/plain": [
       "This is the Calysto LC3 Jupyter kernel.\n",
       "\n",
       "LC3 Interactive Magic Directives: \n",
       "\n",
       " %bp [clear | SUSPENDHEX]           - show, clear, or set breakpoints\n",
       " %cont                              - continue running\n",
       " %dis [STARTHEX [STOPHEX]]          - dump memory as program\n",
       " %dump [STARTHEX [STOPHEX]]         - list memory in hex\n",
       " %exe                               - execute the program\n",
       " %mem HEXLOCATION HEXVALUE          - set memory\n",
       " %pc HEXVALUE                       - set PC\n",
       " %reg REG HEXVALUE                  - set register REG to HEXVALUE\n",
       " %regs                              - show registers\n",
       " %reset                             - reset LC3 to start state\n",
       " %step                              - execute the next instruction, increment PC\n",
       "\n",
       "HEX values begin with an 'x' and are composed of 4 0-F digits or letters.\n",
       "\n",
       "To get additional help on these items, use '%help %item'.\n",
       "\n",
       "To see additional magics, use %lsmagic, and put a question mark after a magic \n",
       "name.\n"
      ]
     },
     "metadata": {},
     "output_type": "display_data"
    }
   ],
   "source": [
    "%help\n"
   ]
  },
  {
   "cell_type": "code",
   "execution_count": 48,
   "id": "aaf7555f-f648-4134-9db9-04e80709aa6d",
   "metadata": {},
   "outputs": [
    {
     "name": "stdout",
     "output_type": "stream",
     "text": [
      "All breakpoints cleared\n"
     ]
    }
   ],
   "source": [
    "%bp clear"
   ]
  }
 ],
 "metadata": {
  "kernelspec": {
   "display_name": "Calysto LC3",
   "language": "asm",
   "name": "calysto_lc3"
  },
  "language_info": {
   "file_extension": ".asm",
   "mimetype": "text/x-gas",
   "name": "gas"
  }
 },
 "nbformat": 4,
 "nbformat_minor": 5
}
