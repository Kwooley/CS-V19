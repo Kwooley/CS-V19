{
 "cells": [
  {
   "cell_type": "markdown",
   "id": "61874856-40a2-442c-8467-00ae38d4b72e",
   "metadata": {},
   "source": [
    "### Program that counts the character in string"
   ]
  },
  {
   "cell_type": "code",
   "execution_count": 3,
   "id": "7b43edf9-a798-4898-b705-553ec6848df1",
   "metadata": {
    "tags": []
   },
   "outputs": [
    {
     "name": "stdout",
     "output_type": "stream",
     "text": [
      "Assembled! Use %dis or %dump to examine; use %exe to run.\n"
     ]
    }
   ],
   "source": [
    ".ORIG\tx3000 \t\t;0011 0000 0000 0000\n",
    "\n",
    "\n",
    "\tAND R2, R2, #0\t \t\t;0101 0100 1010 0000\n",
    "\tLD\tR3, x0010\t \t\t;0010 0110 0001 0000\n",
    "\tTRAP x23\t \t\t\t;1111 0000 0010 0011\n",
    "\tLDR R1, R3, #0\t \t\t;0110 0010 1100 0000\n",
    "\tADD\tR4, R1, #-4\t\t\t;0001 1000 0111 1100\n",
    "\tBRz #8\t\t \t\t\t;0000 0100 0000 1000\n",
    "\tNOT R1, R1\t\t \t\t;1001 0010 0111 1111\n",
    "\tADD R1, R1, #1\t \t\t;0001 0010 0110 0001\n",
    "\tADD R1, R1, R0\t \t\t;0001 0010 0100 0000\n",
    "\tBRnp #1\t \t\t\t\t;0000 1010 0000 0001\n",
    "\tADD R2, R2, #1\t \t\t;0001 0100 1010 0001\n",
    "\tADD R3, R3, #1\t \t\t;0001 0110 1110 0001\n",
    "\tLDR R1, R3, #0\t \t\t;0110 0010 1100 0000\n",
    "\tBRnzp #-10\t \t\t\t;0000 1111 1111 0110\n",
    "\tLD  R0, #4\t \t\t\t;0010 0000 0000 0100\n",
    "\tADD R0, R0, R2\t \t\t;0001 0000 0000 0010\n",
    "\tTRAP x21\t \t\t\t;1111 0000 0010 0001\n",
    "\tTRAP x25\t \t\t\t;1111 0000 0010 0101\n",
    ".FILL x3020\t \t\t\t\t;0011 0000 0000 0000\n",
    ".FILL x0030\t\t \t\t\t;0000 0000 0011 0000\n",
    "\n",
    ".END"
   ]
  },
  {
   "cell_type": "code",
   "execution_count": 2,
   "id": "93623f65-be47-4601-880c-b3d9f2486d68",
   "metadata": {},
   "outputs": [
    {
     "name": "stdout",
     "output_type": "stream",
     "text": [
      "Assembled! Use %dis or %dump to examine; use %exe to run.\n"
     ]
    }
   ],
   "source": [
    ".ORIG x3020\t; start the data at location x3200\n",
    "    .FILL #65\t; the value of the first data element\n",
    "    .FILL #66\t\n",
    "    .FILL #67\t\n",
    "    .FILL #04\t\n",
    ".END"
   ]
  },
  {
   "cell_type": "code",
   "execution_count": 71,
   "id": "963af07c-cba4-4ba7-8db7-899ae5d62504",
   "metadata": {},
   "outputs": [
    {
     "name": "stdout",
     "output_type": "stream",
     "text": [
      "\n",
      "============================================================\n",
      "Registers:\n",
      "============================================================\n",
      "PC: x3000\n",
      "N: 0 Z: 1 P: 0 \n",
      "R0: x0000 R1: x0000 R2: x0000 R3: x0000 \n",
      "R4: x0000 R5: x0000 R6: x0000 R7: x0000 \n"
     ]
    }
   ],
   "source": [
    "%pc x3000"
   ]
  },
  {
   "cell_type": "code",
   "execution_count": 72,
   "id": "65d5e54c-d1bf-4b32-b450-49a4e2bab405",
   "metadata": {},
   "outputs": [
    {
     "name": "stdout",
     "output_type": "stream",
     "text": [
      "============================================================\n",
      "Breakpoints\n",
      "============================================================\n",
      "    1)            x3011: xF025  HALT                                      [line: 20]\n"
     ]
    }
   ],
   "source": [
    "%bp x3011"
   ]
  },
  {
   "cell_type": "code",
   "execution_count": 73,
   "id": "faa16de3-894c-4ecd-850b-3250ebd54357",
   "metadata": {},
   "outputs": [
    {
     "name": "stdout",
     "output_type": "stream",
     "text": [
      "============================================================\n",
      "Breakpoints\n",
      "============================================================\n",
      "    1)            x3003: x62C0  LDR R1, R3, 0                             [line: 6]\n",
      "    2)            x3011: xF025  HALT                                      [line: 20]\n"
     ]
    }
   ],
   "source": [
    "%bp x3003"
   ]
  },
  {
   "cell_type": "code",
   "execution_count": 75,
   "id": "a2eafb15-7488-4dff-b4d3-1a77f164b4af",
   "metadata": {},
   "outputs": [
    {
     "name": "stdout",
     "output_type": "stream",
     "text": [
      "============================================================\n",
      "Stepping...  => read, <= write, (Instructions/Cycles):\n",
      "============================================================\n",
      "    PC <= x3002\n",
      "(2/16) LD R3, x3020 [4] (x3002*: x261E)\n",
      "  Reading memory[x3020] (x0041) =>\n",
      "    R3 <= x0041\n",
      "    NZP <= (0, 0, 1)\n",
      "\n",
      "============================================================\n",
      "Registers:\n",
      "============================================================\n",
      "PC: x3002\n",
      "N: 0 Z: 0 P: 1 \n",
      "R0: x0000 R1: x0000 R2: x0000 R3: x0041 \n",
      "R4: x0000 R5: x0000 R6: x0000 R7: x0000 \n"
     ]
    }
   ],
   "source": [
    "%step"
   ]
  },
  {
   "cell_type": "code",
   "execution_count": 79,
   "id": "38a3ecf0-9314-4edc-9734-3b729705a2d2",
   "metadata": {},
   "outputs": [
    {
     "name": "stdout",
     "output_type": "stream",
     "text": [
      "\n",
      "Input a character> "
     ]
    },
    {
     "name": "stdin",
     "output_type": "stream",
     "text": [
      " A\n"
     ]
    },
    {
     "name": "stdout",
     "output_type": "stream",
     "text": [
      "A\n",
      "1============================================================\n",
      "Computation completed\n",
      "============================================================\n",
      "Instructions: 302\n",
      "Cycles: 2460 (0.001230 milliseconds)\n",
      "\n",
      "============================================================\n",
      "Registers:\n",
      "============================================================\n",
      "PC: x048E\n",
      "N: 0 Z: 0 P: 1 \n",
      "R0: x0031 R1: x0004 R2: x0001 R3: x3023 \n",
      "R4: x0000 R5: x0000 R6: x0000 R7: x3012 \n"
     ]
    }
   ],
   "source": [
    "%exe"
   ]
  },
  {
   "cell_type": "code",
   "execution_count": 4,
   "id": "03ec142e-3825-4e42-82c2-0a4fc7d55c64",
   "metadata": {},
   "outputs": [
    {
     "name": "stdout",
     "output_type": "stream",
     "text": [
      "============================================================\n",
      "Memory disassembled:\n",
      "============================================================\n",
      "           x3000: x54A0  AND R2, R2, #0                            [line: 3]\n",
      "           x3001: x2610  LD R3, x3012                              [line: 4]\n",
      "           x3002: xF023  IN                                        [line: 5]\n",
      "           x3003: x62C0  LDR R1, R3, 0                             [line: 6]\n",
      "           x3004: x187C  ADD R4, R1, #-4                           [line: 7]\n",
      "           x3005: x0408  BRz x300E (or 8)                          [line: 8]\n",
      "           x3006: x927F  NOT R1, R1                                [line: 9]\n",
      "           x3007: x1261  ADD R1, R1, #1                            [line: 10]\n",
      "           x3008: x1240  ADD R1, R1, R0                            [line: 11]\n",
      "           x3009: x0A01  BRnp x300B (or 1)                         [line: 12]\n",
      "           x300A: x14A1  ADD R2, R2, #1                            [line: 13]\n",
      "           x300B: x16E1  ADD R3, R3, #1                            [line: 14]\n",
      "           x300C: x62C0  LDR R1, R3, 0                             [line: 15]\n",
      "           x300D: x0FF6  BRnzp x3004                               [line: 16]\n",
      "           x300E: x2004  LD R0, x3013                              [line: 17]\n",
      "           x300F: x1002  ADD R0, R0, R2                            [line: 18]\n",
      "           x3010: xF021  OUT                                       [line: 19]\n",
      "           x3011: xF025  HALT                                      [line: 20]\n",
      "           x3012: x3020  ST R0, x3033                              [line: 21]\n",
      "           x3013: x0030  NOOP - (no BR to x3044) (or 48, '0')      [line: 22]\n",
      "           x3014: x0000  NOOP - (no BR to x3015) (or 0)            [line: 23]\n",
      "           x3015: x0000 - \\0\n",
      "           x3016: x0000 - \\0\n",
      "           x3017: x0000 - \\0\n",
      "           x3018: x0000 - \\0\n",
      "           x3019: x0000 - \\0\n",
      "           x301A: x0000 - \\0\n",
      "           x301B: x0000 - \\0\n",
      "           x301C: x0000 - \\0\n",
      "           x301D: x0000 - \\0\n",
      "           x301E: x0000 - \\0\n",
      "           x301F: x0000 - \\0\n",
      "           x3020: x0041 - 65 (or 65, 'A')\n",
      "           x3021: x0042 - 66 (or 66, 'B')\n",
      "           x3022: x0043 - 67 (or 67, 'C')\n",
      "           x3023: x0004 - 4 (or 4)\n",
      "           x3024: x0000  NOOP - (no BR to x3025) (or 0)            [line: 5]\n",
      "           x3025: x0000 - \\0\n"
     ]
    }
   ],
   "source": [
    "%dis x3000 x3025"
   ]
  },
  {
   "cell_type": "code",
   "execution_count": 67,
   "id": "83073d1e-592d-477a-8b23-05258945d971",
   "metadata": {},
   "outputs": [
    {
     "name": "stdout",
     "output_type": "stream",
     "text": [
      "\n",
      "Welcome to the LC-3 simulator.\n",
      "\n",
      "The contents of the LC-3 tools distribution, including sources, management\n",
      "tools, and data, are Copyright (c) 2003 Steven S. Lumetta.\n",
      "\n",
      "The LC-3 tools distribution is free software covered by the GNU General\n",
      "Public License, and you are welcome to modify it and/or distribute copies\n",
      "of it under certain conditions.  The file COPYING (distributed with the\n",
      "tools) specifies those conditions.  There is absolutely no warranty for\n",
      "the LC-3 tools distribution, as described in the file NO_WARRANTY (also\n",
      "distributed with the tools).\n",
      "\n",
      "Have fun.\n",
      "\n",
      "============================================================\n",
      "Registers:\n",
      "============================================================\n",
      "PC: x3000\n",
      "N: 0 Z: 1 P: 0 \n",
      "R0: x0000 R1: x0000 R2: x0000 R3: x0000 \n",
      "R4: x0000 R5: x0000 R6: x0000 R7: x0000 \n"
     ]
    }
   ],
   "source": [
    "%reset"
   ]
  }
 ],
 "metadata": {
  "kernelspec": {
   "display_name": "Calysto LC3",
   "language": "asm",
   "name": "calysto_lc3"
  },
  "language_info": {
   "file_extension": ".asm",
   "mimetype": "text/x-gas",
   "name": "gas"
  }
 },
 "nbformat": 4,
 "nbformat_minor": 5
}
