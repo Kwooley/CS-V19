{
 "cells": [
  {
   "cell_type": "markdown",
   "id": "158b3310-9016-4852-8fbf-021c7744bd51",
   "metadata": {},
   "source": [
    "## C++ Interface\n"
   ]
  },
  {
   "cell_type": "code",
   "execution_count": 4,
   "id": "a849d3c3-7142-4db0-9320-180df8f81fdd",
   "metadata": {},
   "outputs": [
    {
     "name": "stdout",
     "output_type": "stream",
     "text": [
      "Hello, World\n"
     ]
    }
   ],
   "source": [
    "#include <iostream>\n",
    "using namespace std;\n",
    "\n",
    "cout << \"Hello, World\\n\";\n"
   ]
  },
  {
   "cell_type": "code",
   "execution_count": 18,
   "id": "d873e706-a4ca-4b67-8a50-bf59992c00ea",
   "metadata": {},
   "outputs": [],
   "source": [
    "int i=10;\n",
    "int j=20;"
   ]
  },
  {
   "cell_type": "code",
   "execution_count": 19,
   "id": "e0d95a48-165b-4757-9943-b573ca348769",
   "metadata": {},
   "outputs": [
    {
     "data": {
      "text/plain": [
       "10"
      ]
     },
     "execution_count": 19,
     "metadata": {},
     "output_type": "execute_result"
    }
   ],
   "source": [
    "i"
   ]
  },
  {
   "cell_type": "code",
   "execution_count": 20,
   "id": "6b2a135b-db12-4045-95e3-667f36a52e16",
   "metadata": {},
   "outputs": [
    {
     "data": {
      "text/plain": [
       "20"
      ]
     },
     "execution_count": 20,
     "metadata": {},
     "output_type": "execute_result"
    }
   ],
   "source": [
    "j"
   ]
  },
  {
   "cell_type": "code",
   "execution_count": 9,
   "id": "b81e9eb5-df0a-459e-a965-a4de68b8f7ce",
   "metadata": {},
   "outputs": [
    {
     "name": "stdout",
     "output_type": "stream",
     "text": [
      "1\t2\t3\t4\t5\t0\t0\t0\t0\t0\t\n"
     ]
    }
   ],
   "source": [
    "int num[10] = {1,2,3,4,5};\n",
    "\n",
    "for(int i=0; i<10; i++)\n",
    "    cout << num[i] << \"\\t\";\n",
    "cout <<endl;"
   ]
  },
  {
   "cell_type": "code",
   "execution_count": 12,
   "id": "5577499e-fd44-4be0-b25e-03f9028f93e3",
   "metadata": {},
   "outputs": [],
   "source": [
    "void printarray(int arr[], int N)\n",
    "{\n",
    "    for(int i=0;i<N;i++)\n",
    "        cout << arr[i] << \"\\t\";\n",
    "}"
   ]
  },
  {
   "cell_type": "code",
   "execution_count": 14,
   "id": "e4647d9f-15a6-4721-8b0d-6cf21366f697",
   "metadata": {},
   "outputs": [
    {
     "name": "stdout",
     "output_type": "stream",
     "text": [
      "1\t2\t3\t4\t5\t0\t0\t0\t0\t0\t"
     ]
    }
   ],
   "source": [
    "printarray(num, 10)"
   ]
  },
  {
   "cell_type": "code",
   "execution_count": 21,
   "id": "db78e941-f6c3-4ab9-9f40-374940d0447f",
   "metadata": {},
   "outputs": [
    {
     "name": "stdout",
     "output_type": "stream",
     "text": [
      "0 1\t0 2\t0 3\t0 4\t\n",
      "1 2\t1 3\t1 4\t\n",
      "2 3\t2 4\t\n",
      "3 4\t\n",
      "\n"
     ]
    }
   ],
   "source": [
    "for (int i = 0; i < 5; i++)\n",
    "  {\n",
    "    for (int j = (i + 1); j < 5; j++)\n",
    "    {\n",
    "\t\tcout << i << \" \" << j << \"\\t\";\n",
    "\n",
    "    }\n",
    "\tcout << endl;\n",
    "  }"
   ]
  },
  {
   "cell_type": "code",
   "execution_count": 22,
   "id": "9afa307d-c7b5-466c-9a18-a5075c5c62aa",
   "metadata": {},
   "outputs": [
    {
     "name": "stdout",
     "output_type": "stream",
     "text": [
      "10\t5\t3\t4\t1\t"
     ]
    }
   ],
   "source": [
    "int num1[5]={10, 5, 3, 4,1};\n",
    "\n",
    "for(int v : num1)\n",
    "    cout << v << \"\\t\";\n"
   ]
  }
 ],
 "metadata": {
  "kernelspec": {
   "display_name": "C++11",
   "language": "C++11",
   "name": "xcpp11"
  },
  "language_info": {
   "codemirror_mode": "text/x-c++src",
   "file_extension": ".cpp",
   "mimetype": "text/x-c++src",
   "name": "c++",
   "version": "11"
  }
 },
 "nbformat": 4,
 "nbformat_minor": 5
}
