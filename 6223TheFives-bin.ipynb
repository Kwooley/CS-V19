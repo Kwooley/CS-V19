{
 "cells": [
  {
   "cell_type": "markdown",
   "id": "0844eda0-085b-46b0-9eac-bba6e7071726",
   "metadata": {},
   "source": [
    "## Debug Example\n",
    "### Find the 5 in ten memory location starting with x3100.\n",
    "\n",
    "### Error : Branch error. It was supposed to test the loop count variable, but it tests the LDR."
   ]
  },
  {
   "cell_type": "code",
   "execution_count": 52,
   "id": "51c84b9f-310c-496d-a9e9-fecaf52bbe6f",
   "metadata": {
    "tags": []
   },
   "outputs": [
    {
     "name": "stdout",
     "output_type": "stream",
     "text": [
      "Assembled! Use %dis or %dump to examine; use %exe to run.\n"
     ]
    }
   ],
   "source": [
    "0101 0000 0010 0000    ; x3000 ;  AND R0, R0, #0\n",
    "0001 000 000 100001    ; x3001 ;  ADD R0, R0, #1\n",
    "0101 001 001 100000    ; x3002 ;  AND R1, R1, #0\n",
    "0001 001 001 111011    ; x3003 ;  ADD R1, R1, #-5\n",
    "0101 011 011 1 00000    ; x3004 ;  AND R3, R3, #0\n",
    "0001 011 011 1 01010    ; x3005 ;  ADD R3, R3, #10\n",
    "0010 100 000001001     ; x3006  ;  LD R4, x0009   ; => pc(x3007) + 9 = x3010 ; R4 = x3100\n",
    "0110 010 100 000000     ; x3007  ;  LDR R2, R4, #0 ; R2 = mem[x3100] => '9'\n",
    "0001 010 010 000001     ; x3008  ;  ADD R2, R2, R1 ; R2 == R1\n",
    "0000 010 000 000101     ; x3009  ;  BRz #3\n",
    "0001 100 100 100001    ; x300A   ; ADD R2, R2, #1\n",
    "0001 011 011 111111    ; x300B   ; ADD R3, R3, #-1\n",
    "0110 010 100 000000    ; x300C    ; LDR R2, R4, #0\n",
    "0000 001 111111010    ; x300D       ; BRp #-6\n",
    "0101 000 000 1 00000    ; x300E         ; AND R0, R0, #0\n",
    "1111000000100101    ; x300F  ; Halt\n",
    "0011000100000000    ; x3010\n"
   ]
  },
  {
   "cell_type": "code",
   "execution_count": 53,
   "id": "12dd24d9-5302-40b0-8a42-cc3657e88531",
   "metadata": {},
   "outputs": [
    {
     "name": "stdout",
     "output_type": "stream",
     "text": [
      "============================================================\n",
      "Memory dump:\n",
      "============================================================\n",
      "           x3000: x5020\n",
      "           x3001: x1021\n",
      "           x3002: x5260\n",
      "           x3003: x127B\n",
      "           x3004: x56E0\n",
      "           x3005: x16EA\n",
      "           x3006: x2809\n",
      "           x3007: x6500\n",
      "           x3008: x1481\n",
      "           x3009: x0405\n",
      "           x300A: x1921\n",
      "           x300B: x16FF\n",
      "           x300C: x6500\n",
      "           x300D: x03FA\n",
      "           x300E: x5020\n",
      "           x300F: xF025\n",
      "           x3010: x3100\n"
     ]
    }
   ],
   "source": [
    "%dump x3000 x3010"
   ]
  },
  {
   "cell_type": "code",
   "execution_count": 54,
   "id": "dd832f42-dcab-43ea-9959-fd37a53d46b2",
   "metadata": {},
   "outputs": [
    {
     "name": "stdout",
     "output_type": "stream",
     "text": [
      "============================================================\n",
      "Memory dump:\n",
      "============================================================\n",
      "           x3100: x0009\n"
     ]
    }
   ],
   "source": [
    "%mem x3100 x0009"
   ]
  },
  {
   "cell_type": "code",
   "execution_count": 55,
   "id": "78857809-bcba-44c8-a3ce-1fa5da790b0c",
   "metadata": {},
   "outputs": [
    {
     "name": "stdout",
     "output_type": "stream",
     "text": [
      "============================================================\n",
      "Memory dump:\n",
      "============================================================\n",
      "           x3101: x0007\n"
     ]
    }
   ],
   "source": [
    "%mem x3101 x0007"
   ]
  },
  {
   "cell_type": "code",
   "execution_count": 56,
   "id": "d8186e1b-1f52-46b0-9bf2-87ff48796e1a",
   "metadata": {},
   "outputs": [
    {
     "name": "stdout",
     "output_type": "stream",
     "text": [
      "============================================================\n",
      "Memory dump:\n",
      "============================================================\n",
      "           x3102: x0020\n"
     ]
    }
   ],
   "source": [
    "%mem x3102 x0020"
   ]
  },
  {
   "cell_type": "code",
   "execution_count": 57,
   "id": "74c23556-d82e-4613-9c61-f8d6fa82f576",
   "metadata": {},
   "outputs": [
    {
     "name": "stdout",
     "output_type": "stream",
     "text": [
      "============================================================\n",
      "Memory dump:\n",
      "============================================================\n",
      "           x3103: x0000\n"
     ]
    }
   ],
   "source": [
    "%mem x3103 x0000"
   ]
  },
  {
   "cell_type": "code",
   "execution_count": 58,
   "id": "b054b266-208e-463c-b5e3-718323738d46",
   "metadata": {},
   "outputs": [
    {
     "name": "stdout",
     "output_type": "stream",
     "text": [
      "============================================================\n",
      "Memory dump:\n",
      "============================================================\n",
      "           x3104: xFFF7\n"
     ]
    }
   ],
   "source": [
    "%mem x3104 xFFF7"
   ]
  },
  {
   "cell_type": "code",
   "execution_count": 59,
   "id": "197e0876-0f86-42e3-8ba4-13a18fcf0b59",
   "metadata": {},
   "outputs": [
    {
     "name": "stdout",
     "output_type": "stream",
     "text": [
      "============================================================\n",
      "Memory dump:\n",
      "============================================================\n",
      "           x3105: x00F3\n"
     ]
    }
   ],
   "source": [
    "%mem x3105 x00F3"
   ]
  },
  {
   "cell_type": "code",
   "execution_count": 60,
   "id": "c25fc5e4-450f-4cbf-a27a-ca07607376ca",
   "metadata": {},
   "outputs": [
    {
     "name": "stdout",
     "output_type": "stream",
     "text": [
      "============================================================\n",
      "Memory dump:\n",
      "============================================================\n",
      "           x3106: x0006\n"
     ]
    }
   ],
   "source": [
    "%mem x3106 x0006"
   ]
  },
  {
   "cell_type": "code",
   "execution_count": 61,
   "id": "c9bf8fb7-1aad-479a-b9dd-a393ae0162d5",
   "metadata": {},
   "outputs": [
    {
     "name": "stdout",
     "output_type": "stream",
     "text": [
      "============================================================\n",
      "Memory dump:\n",
      "============================================================\n",
      "           x3107: x000D\n"
     ]
    }
   ],
   "source": [
    "%mem x3107 x000D"
   ]
  },
  {
   "cell_type": "code",
   "execution_count": 62,
   "id": "8f5e062b-d479-478e-a625-78243b747a89",
   "metadata": {},
   "outputs": [
    {
     "name": "stdout",
     "output_type": "stream",
     "text": [
      "============================================================\n",
      "Memory dump:\n",
      "============================================================\n",
      "           x3108: x0005\n"
     ]
    }
   ],
   "source": [
    "%mem x3108 x0005"
   ]
  },
  {
   "cell_type": "code",
   "execution_count": 63,
   "id": "29efefef-1472-43ce-bc56-6ff4634eecd0",
   "metadata": {},
   "outputs": [
    {
     "name": "stdout",
     "output_type": "stream",
     "text": [
      "============================================================\n",
      "Memory dump:\n",
      "============================================================\n",
      "           x3109: x003D\n"
     ]
    }
   ],
   "source": [
    "%mem x3109 x003D"
   ]
  },
  {
   "cell_type": "code",
   "execution_count": 64,
   "id": "d7cc7931-0e4b-4ec2-b580-405e4c257995",
   "metadata": {},
   "outputs": [
    {
     "name": "stdout",
     "output_type": "stream",
     "text": [
      "============================================================\n",
      "Memory dump:\n",
      "============================================================\n",
      "           x3100: x0009\n",
      "           x3101: x0007\n",
      "           x3102: x0020\n",
      "           x3103: x0000\n",
      "           x3104: xFFF7\n",
      "           x3105: x00F3\n",
      "           x3106: x0006\n",
      "           x3107: x000D\n",
      "           x3108: x0005\n",
      "           x3109: x003D\n"
     ]
    }
   ],
   "source": [
    "%dis x3100 x3109"
   ]
  },
  {
   "cell_type": "code",
   "execution_count": 65,
   "id": "3016c21d-3177-4187-afa2-9789d010ca78",
   "metadata": {},
   "outputs": [
    {
     "name": "stdout",
     "output_type": "stream",
     "text": [
      "\n",
      "============================================================\n",
      "Registers:\n",
      "============================================================\n",
      "PC: x3011\n",
      "N: 0 Z: 1 P: 0 \n",
      "R0: x0000 R1: x0000 R2: x0000 R3: x0000 \n",
      "R4: x0000 R5: x0000 R6: x0000 R7: x0000 \n"
     ]
    }
   ],
   "source": [
    "%regs\n"
   ]
  },
  {
   "cell_type": "code",
   "execution_count": 66,
   "id": "452e3152-5fdf-413d-a3df-4e3fba992fe4",
   "metadata": {},
   "outputs": [
    {
     "name": "stdout",
     "output_type": "stream",
     "text": [
      "\n",
      "============================================================\n",
      "Registers:\n",
      "============================================================\n",
      "PC: x3000\n",
      "N: 0 Z: 1 P: 0 \n",
      "R0: x0000 R1: x0000 R2: x0000 R3: x0000 \n",
      "R4: x0000 R5: x0000 R6: x0000 R7: x0000 \n"
     ]
    }
   ],
   "source": [
    "%pc x3000"
   ]
  },
  {
   "cell_type": "code",
   "execution_count": 81,
   "id": "9ac7cdd7-8894-4133-8e68-52e75f97898b",
   "metadata": {},
   "outputs": [
    {
     "name": "stdout",
     "output_type": "stream",
     "text": [
      "============================================================\n",
      "Stepping...  => read, <= write, (Instructions/Cycles):\n",
      "============================================================\n",
      "    PC <= x3009\n",
      "(15/100) ADD R2, R2, R1 [9] (x3009*: x1481)\n",
      "    R2 <= x0002\n",
      "    NZP <= (0, 0, 1)\n",
      "\n",
      "============================================================\n",
      "Registers:\n",
      "============================================================\n",
      "PC: x3009\n",
      "N: 0 Z: 0 P: 1 \n",
      "R0: x0001 R1: xFFFB R2: x0002 R3: x0009 \n",
      "R4: x3101 R5: x0000 R6: x0000 R7: x0000 \n"
     ]
    }
   ],
   "source": [
    "%step"
   ]
  },
  {
   "cell_type": "code",
   "execution_count": 51,
   "id": "b7d67e26-a944-4d48-b0f9-fef6709d98e6",
   "metadata": {},
   "outputs": [
    {
     "name": "stdout",
     "output_type": "stream",
     "text": [
      "\n",
      "Welcome to the LC-3 simulator.\n",
      "\n",
      "The contents of the LC-3 tools distribution, including sources, management\n",
      "tools, and data, are Copyright (c) 2003 Steven S. Lumetta.\n",
      "\n",
      "The LC-3 tools distribution is free software covered by the GNU General\n",
      "Public License, and you are welcome to modify it and/or distribute copies\n",
      "of it under certain conditions.  The file COPYING (distributed with the\n",
      "tools) specifies those conditions.  There is absolutely no warranty for\n",
      "the LC-3 tools distribution, as described in the file NO_WARRANTY (also\n",
      "distributed with the tools).\n",
      "\n",
      "Have fun.\n",
      "\n",
      "============================================================\n",
      "Registers:\n",
      "============================================================\n",
      "PC: x3000\n",
      "N: 0 Z: 1 P: 0 \n",
      "R0: x0000 R1: x0000 R2: x0000 R3: x0000 \n",
      "R4: x0000 R5: x0000 R6: x0000 R7: x0000 \n"
     ]
    }
   ],
   "source": [
    "%reset"
   ]
  },
  {
   "cell_type": "code",
   "execution_count": 55,
   "id": "97a6af40-fc86-4342-91c5-b9babac959b0",
   "metadata": {},
   "outputs": [
    {
     "data": {
      "text/plain": [
       "This is the Calysto LC3 Jupyter kernel.\n",
       "\n",
       "LC3 Interactive Magic Directives: \n",
       "\n",
       " %bp [clear | SUSPENDHEX]           - show, clear, or set breakpoints\n",
       " %cont                              - continue running\n",
       " %dis [STARTHEX [STOPHEX]]          - dump memory as program\n",
       " %dump [STARTHEX [STOPHEX]]         - list memory in hex\n",
       " %exe                               - execute the program\n",
       " %mem HEXLOCATION HEXVALUE          - set memory\n",
       " %pc HEXVALUE                       - set PC\n",
       " %reg REG HEXVALUE                  - set register REG to HEXVALUE\n",
       " %regs                              - show registers\n",
       " %reset                             - reset LC3 to start state\n",
       " %step                              - execute the next instruction, increment PC\n",
       "\n",
       "HEX values begin with an 'x' and are composed of 4 0-F digits or letters.\n",
       "\n",
       "To get additional help on these items, use '%help %item'.\n",
       "\n",
       "To see additional magics, use %lsmagic, and put a question mark after a magic \n",
       "name.\n"
      ]
     },
     "metadata": {},
     "output_type": "display_data"
    }
   ],
   "source": [
    "%help"
   ]
  }
 ],
 "metadata": {
  "kernelspec": {
   "display_name": "Calysto LC3",
   "language": "asm",
   "name": "calysto_lc3"
  },
  "language_info": {
   "file_extension": ".asm",
   "mimetype": "text/x-gas",
   "name": "gas"
  }
 },
 "nbformat": 4,
 "nbformat_minor": 5
}
