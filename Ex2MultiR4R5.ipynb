{
 "cells": [
  {
   "cell_type": "code",
   "execution_count": 15,
   "id": "1dee1eed-5f6f-4685-9066-0238eee4bd69",
   "metadata": {},
   "outputs": [
    {
     "name": "stdout",
     "output_type": "stream",
     "text": [
      "Assembled! Use %dis or %dump to examine; use %exe to run.\n"
     ]
    }
   ],
   "source": [
    ".ORIG x3000\n",
    "        ; R4 x R5\n",
    "        ; R2 is Result\n",
    "        AND R2, R2, #0 ; set R1 to zero\n",
    "LOOP\n",
    "        ADD R2, R2, R4 ; \n",
    "        ADD R5, R5, #-1    \n",
    "        BRp LOOP\n",
    "        HALT\n",
    ".END"
   ]
  },
  {
   "cell_type": "code",
   "execution_count": 16,
   "id": "7cda1345-f73c-484f-ad02-bf7caba51b5a",
   "metadata": {},
   "outputs": [
    {
     "name": "stdout",
     "output_type": "stream",
     "text": [
      "============================================================\n",
      "Memory disassembled:\n",
      "============================================================\n",
      "           x3000: x54A0  AND R2, R2, #0                            [line: 3]\n",
      "LOOP:      x3001: x1484  ADD R2, R2, R4                            [line: 5]\n",
      "           x3002: x1B7F  ADD R5, R5, #-1                           [line: 6]\n",
      "           x3003: x03FD  BRp LOOP                                  [line: 7]\n",
      "           x3004: xF025  HALT                                      [line: 8]\n"
     ]
    }
   ],
   "source": [
    "%dis"
   ]
  },
  {
   "cell_type": "code",
   "execution_count": 17,
   "id": "850ef37b-e331-424e-8be0-bdc091344270",
   "metadata": {},
   "outputs": [
    {
     "name": "stdout",
     "output_type": "stream",
     "text": [
      "\n",
      "============================================================\n",
      "Registers:\n",
      "============================================================\n",
      "PC: x3005\n",
      "N: 0 Z: 1 P: 0 \n",
      "R0: x0000 R1: x0000 R2: x0000 R3: x0000 \n",
      "R4: x0000 R5: x0003 R6: x0000 R7: x0000 \n"
     ]
    }
   ],
   "source": [
    "%reg 5 3"
   ]
  },
  {
   "cell_type": "code",
   "execution_count": 18,
   "id": "1776d6d3-2ac5-442a-8372-8f11471bb810",
   "metadata": {},
   "outputs": [
    {
     "name": "stdout",
     "output_type": "stream",
     "text": [
      "\n",
      "============================================================\n",
      "Registers:\n",
      "============================================================\n",
      "PC: x3005\n",
      "N: 0 Z: 1 P: 0 \n",
      "R0: x0000 R1: x0000 R2: x0000 R3: x0000 \n",
      "R4: x0005 R5: x0003 R6: x0000 R7: x0000 \n"
     ]
    }
   ],
   "source": [
    "%reg 4 5"
   ]
  },
  {
   "cell_type": "code",
   "execution_count": 12,
   "id": "790db78e-8bec-48ac-aaa3-1872850d8e3b",
   "metadata": {},
   "outputs": [
    {
     "name": "stdout",
     "output_type": "stream",
     "text": [
      "============================================================\n",
      "Breakpoints\n",
      "============================================================\n",
      "    1) LOOP:      x3001: x1484  ADD R2, R2, R4                            [line: 5]\n"
     ]
    }
   ],
   "source": [
    "%bp x3001"
   ]
  },
  {
   "cell_type": "code",
   "execution_count": 20,
   "id": "0d414219-3197-4a9b-9376-2ff49960f1c1",
   "metadata": {},
   "outputs": [
    {
     "name": "stdout",
     "output_type": "stream",
     "text": [
      "\n",
      "============================================================\n",
      "Registers:\n",
      "============================================================\n",
      "PC: x3000\n",
      "N: 0 Z: 1 P: 0 \n",
      "R0: x0000 R1: x0000 R2: x0000 R3: x0000 \n",
      "R4: x0005 R5: x0003 R6: x0000 R7: x0000 \n"
     ]
    }
   ],
   "source": [
    "%pc x3000"
   ]
  },
  {
   "cell_type": "code",
   "execution_count": 21,
   "id": "66d1d773-2748-4e74-927b-1e44b3908441",
   "metadata": {},
   "outputs": [
    {
     "name": "stdout",
     "output_type": "stream",
     "text": [
      "\n",
      "============================================================\n",
      "Registers:\n",
      "============================================================\n",
      "PC: x3000\n",
      "N: 0 Z: 1 P: 0 \n",
      "R0: x0000 R1: x0000 R2: x0000 R3: x0000 \n",
      "R4: x0005 R5: x0003 R6: x0000 R7: x0000 \n"
     ]
    }
   ],
   "source": [
    "%regs"
   ]
  },
  {
   "cell_type": "code",
   "execution_count": 33,
   "id": "29ce6d8a-14fa-4b07-b786-6c906826c11d",
   "metadata": {},
   "outputs": [
    {
     "name": "stdout",
     "output_type": "stream",
     "text": [
      "============================================================\n",
      "Stepping...  => read, <= write, (Instructions/Cycles):\n",
      "============================================================\n",
      "    PC <= x048F\n",
      "(12/75) LEA R0, x04B0 (x048F*: xE021)\n",
      "    R0 <= x04B0\n",
      "    NZP <= (0, 0, 1)\n",
      "\n",
      "============================================================\n",
      "Registers:\n",
      "============================================================\n",
      "PC: x048F\n",
      "N: 0 Z: 0 P: 1 \n",
      "R0: x04B0 R1: x0000 R2: x000F R3: x0000 \n",
      "R4: x0005 R5: x0000 R6: x0000 R7: x3005 \n"
     ]
    }
   ],
   "source": [
    "%step"
   ]
  },
  {
   "cell_type": "code",
   "execution_count": 14,
   "id": "15be49d0-fbfb-4763-9049-854ec6b80cb7",
   "metadata": {},
   "outputs": [
    {
     "name": "stdout",
     "output_type": "stream",
     "text": [
      "\n",
      "Welcome to the LC-3 simulator.\n",
      "\n",
      "The contents of the LC-3 tools distribution, including sources, management\n",
      "tools, and data, are Copyright (c) 2003 Steven S. Lumetta.\n",
      "\n",
      "The LC-3 tools distribution is free software covered by the GNU General\n",
      "Public License, and you are welcome to modify it and/or distribute copies\n",
      "of it under certain conditions.  The file COPYING (distributed with the\n",
      "tools) specifies those conditions.  There is absolutely no warranty for\n",
      "the LC-3 tools distribution, as described in the file NO_WARRANTY (also\n",
      "distributed with the tools).\n",
      "\n",
      "Have fun.\n",
      "\n",
      "============================================================\n",
      "Registers:\n",
      "============================================================\n",
      "PC: x3000\n",
      "N: 0 Z: 1 P: 0 \n",
      "R0: x0000 R1: x0000 R2: x0000 R3: x0000 \n",
      "R4: x0000 R5: x0000 R6: x0000 R7: x0000 \n"
     ]
    }
   ],
   "source": [
    "%reset"
   ]
  }
 ],
 "metadata": {
  "kernelspec": {
   "display_name": "Calysto LC3",
   "language": "asm",
   "name": "calysto_lc3"
  },
  "language_info": {
   "file_extension": ".asm",
   "mimetype": "text/x-gas",
   "name": "gas"
  }
 },
 "nbformat": 4,
 "nbformat_minor": 5
}
