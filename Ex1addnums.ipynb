{
 "cells": [
  {
   "cell_type": "code",
   "execution_count": 1,
   "id": "3d8a4b92-8496-4b08-ae14-ce94ac1925f2",
   "metadata": {},
   "outputs": [
    {
     "data": {
      "text/plain": [
       "This is the Calysto LC3 Jupyter kernel.\n",
       "\n",
       "LC3 Interactive Magic Directives: \n",
       "\n",
       " %bp [clear | SUSPENDHEX]           - show, clear, or set breakpoints\n",
       " %cont                              - continue running\n",
       " %dis [STARTHEX [STOPHEX]]          - dump memory as program\n",
       " %dump [STARTHEX [STOPHEX]]         - list memory in hex\n",
       " %exe                               - execute the program\n",
       " %mem HEXLOCATION HEXVALUE          - set memory\n",
       " %pc HEXVALUE                       - set PC\n",
       " %reg REG HEXVALUE                  - set register REG to HEXVALUE\n",
       " %regs                              - show registers\n",
       " %reset                             - reset LC3 to start state\n",
       " %step                              - execute the next instruction, increment PC\n",
       "\n",
       "HEX values begin with an 'x' and are composed of 4 0-F digits or letters.\n",
       "\n",
       "To get additional help on these items, use '%help %item'.\n",
       "\n",
       "To see additional magics, use %lsmagic, and put a question mark after a magic \n",
       "name.\n"
      ]
     },
     "metadata": {},
     "output_type": "display_data"
    }
   ],
   "source": [
    "%help\n"
   ]
  },
  {
   "cell_type": "code",
   "execution_count": 19,
   "id": "a1421903-0342-47e7-bdfc-7d5a23f2adeb",
   "metadata": {},
   "outputs": [
    {
     "name": "stdout",
     "output_type": "stream",
     "text": [
      "Assembled! Use %dis or %dump to examine; use %exe to run.\n"
     ]
    }
   ],
   "source": [
    ".ORIG x3000\t; start the program at location x3000\n",
    "\tAND R1, R1, x0\t; clear R1, to be used for returning the sum\n",
    "\tAND R4, R4, x0\t; clear R4, to be used as a counter\n",
    "\tADD R4, R4, #10\t; load R4 with #10, the number of times to add\n",
    "\tLEA R2, x0FC\t; load the starting address of the data\n",
    "LOOP\t\n",
    "    LDR R3, R2, x0\t; load the next number to be added\n",
    "\tADD R2, R2, #1\t; increment the pointer\n",
    "\tADD R1, R1, R3\t; add the next number to the running sum\n",
    "\tADD R4, R4, #-1\t; decrement the counter\n",
    "\tBRp LOOP\t; do it again if the counter is not yet zero\n",
    "\tHALT\t; halt\n",
    ".END\t\n"
   ]
  },
  {
   "cell_type": "code",
   "execution_count": 18,
   "id": "644943a4-eb02-4841-974d-6152820b048e",
   "metadata": {},
   "outputs": [
    {
     "name": "stdout",
     "output_type": "stream",
     "text": [
      "Assembled! Use %dis or %dump to examine; use %exe to run.\n"
     ]
    }
   ],
   "source": [
    ".ORIG x3100\t; start the data at location x3100\n",
    "    .FILL #1\t; the value of the first data element\n",
    "    .FILL #2\t\n",
    "    .FILL #3\t\n",
    "    .FILL #4\t\n",
    "    .FILL #5\t\n",
    "    .FILL #6\t\n",
    "    .FILL #7\t\n",
    "    .FILL #8\t\n",
    "    .FILL #9\n",
    "    .FILL #10\n",
    ".END\t\n"
   ]
  },
  {
   "cell_type": "code",
   "execution_count": 23,
   "id": "bee3214c-35af-40af-8a67-d8bb777c193b",
   "metadata": {},
   "outputs": [
    {
     "name": "stdout",
     "output_type": "stream",
     "text": [
      "============================================================\n",
      "Memory disassembled:\n",
      "============================================================\n",
      "           x3100: x0001 - 1 (or 1)\n",
      "           x3101: x0002 - 2 (or 2)\n",
      "           x3102: x0003 - 3 (or 3)\n",
      "           x3103: x0004 - 4 (or 4)\n",
      "           x3104: x0005 - 5 (or 5)\n",
      "           x3105: x0006 - 6 (or 6)\n",
      "           x3106: x0007 - 7 (or 7)\n",
      "           x3107: x0008 - 8 (or 8)\n",
      "           x3108: x0009 - 9 (or 9)\n",
      "           x3109: x000A - 10 (or 10)\n"
     ]
    }
   ],
   "source": [
    "%dis x3100 x3109"
   ]
  },
  {
   "cell_type": "code",
   "execution_count": 21,
   "id": "14f8e833-0232-4549-8323-ba8fc52ac57d",
   "metadata": {
    "tags": []
   },
   "outputs": [
    {
     "name": "stdout",
     "output_type": "stream",
     "text": [
      "============================================================\n",
      "Memory disassembled:\n",
      "============================================================\n",
      "           x3000: x5260  AND R1, R1, #0                            [line: 1]\n",
      "           x3001: x5920  AND R4, R4, #0                            [line: 2]\n",
      "           x3002: x192A  ADD R4, R4, #10                           [line: 3]\n",
      "           x3003: xE4FC  LEA R2, x3100                             [line: 4]\n",
      "LOOP:      x3004: x6680  LDR R3, R2, 0                             [line: 6]\n",
      "           x3005: x14A1  ADD R2, R2, #1                            [line: 7]\n",
      "           x3006: x1243  ADD R1, R1, R3                            [line: 8]\n",
      "           x3007: x193F  ADD R4, R4, #-1                           [line: 9]\n",
      "           x3008: x03FB  BRp LOOP                                  [line: 10]\n",
      "           x3009: xF025  HALT                                      [line: 11]\n"
     ]
    }
   ],
   "source": [
    "%dis x3000 x3009"
   ]
  },
  {
   "cell_type": "code",
   "execution_count": 24,
   "id": "172d672d-84a7-4f42-b71e-42687ce888e5",
   "metadata": {},
   "outputs": [
    {
     "name": "stdout",
     "output_type": "stream",
     "text": [
      "\n",
      "============================================================\n",
      "Registers:\n",
      "============================================================\n",
      "PC: x300A\n",
      "N: 0 Z: 1 P: 0 \n",
      "R0: x0000 R1: x0000 R2: x0000 R3: x0000 \n",
      "R4: x0000 R5: x0000 R6: x0000 R7: x0000 \n"
     ]
    }
   ],
   "source": [
    "%regs"
   ]
  },
  {
   "cell_type": "code",
   "execution_count": 25,
   "id": "ea963831-9682-4178-baac-bde5f8fe939f",
   "metadata": {},
   "outputs": [
    {
     "name": "stdout",
     "output_type": "stream",
     "text": [
      "\n",
      "============================================================\n",
      "Registers:\n",
      "============================================================\n",
      "PC: x3000\n",
      "N: 0 Z: 1 P: 0 \n",
      "R0: x0000 R1: x0000 R2: x0000 R3: x0000 \n",
      "R4: x0000 R5: x0000 R6: x0000 R7: x0000 \n"
     ]
    }
   ],
   "source": [
    "%pc x3000"
   ]
  },
  {
   "cell_type": "code",
   "execution_count": 28,
   "id": "e705ed8f-7b81-43c1-9131-e28aa2168f7f",
   "metadata": {},
   "outputs": [
    {
     "name": "stdout",
     "output_type": "stream",
     "text": [
      "============================================================\n",
      "Breakpoints\n",
      "============================================================\n",
      "    1) LOOP:      x3004: x6680  LDR R3, R2, 0                             [line: 6]\n",
      "    2)            x3009: xF025  HALT                                      [line: 11]\n"
     ]
    }
   ],
   "source": [
    "%bp x3009"
   ]
  },
  {
   "cell_type": "code",
   "execution_count": 27,
   "id": "4fb09b49-7086-4ea5-b173-c3095f2d21b3",
   "metadata": {},
   "outputs": [
    {
     "name": "stdout",
     "output_type": "stream",
     "text": [
      "============================================================\n",
      "Breakpoints\n",
      "============================================================\n",
      "    1) LOOP:      x3004: x6680  LDR R3, R2, 0                             [line: 6]\n"
     ]
    }
   ],
   "source": [
    "%bp x3004"
   ]
  },
  {
   "cell_type": "code",
   "execution_count": 47,
   "id": "1476732b-4d8e-464b-b553-e71798e04546",
   "metadata": {
    "tags": []
   },
   "outputs": [
    {
     "name": "stdout",
     "output_type": "stream",
     "text": [
      "...breakpoint hit at x3004\n",
      "============================================================\n",
      "Computation SUSPENDED\n",
      "============================================================\n",
      "Instructions: 4\n",
      "Cycles: 24 (0.000012 milliseconds)\n",
      "\n",
      "============================================================\n",
      "Registers:\n",
      "============================================================\n",
      "PC: x3004\n",
      "N: 0 Z: 0 P: 1 \n",
      "R0: x0000 R1: x0000 R2: x3100 R3: x0000 \n",
      "R4: x000A R5: x0000 R6: x0000 R7: x0000 \n"
     ]
    }
   ],
   "source": [
    "%exe"
   ]
  },
  {
   "cell_type": "code",
   "execution_count": 48,
   "id": "65fb3cff-9f31-4c3b-a81f-604ae510356a",
   "metadata": {},
   "outputs": [
    {
     "name": "stdout",
     "output_type": "stream",
     "text": [
      "============================================================\n",
      "Stepping...  => read, <= write, (Instructions/Cycles):\n",
      "============================================================\n",
      "    PC <= x3005\n",
      "(5/33) LDR R3, R2, 0 [6] (x3005*: x6680)\n",
      "  Reading memory[x3100] (x0001) =>\n",
      "    R3 <= x0001\n",
      "    NZP <= (0, 0, 1)\n",
      "\n",
      "============================================================\n",
      "Registers:\n",
      "============================================================\n",
      "PC: x3005\n",
      "N: 0 Z: 0 P: 1 \n",
      "R0: x0000 R1: x0000 R2: x3100 R3: x0001 \n",
      "R4: x000A R5: x0000 R6: x0000 R7: x0000 \n"
     ]
    }
   ],
   "source": [
    "%step"
   ]
  },
  {
   "cell_type": "code",
   "execution_count": 54,
   "id": "a0a95112-5686-4a19-9ebe-228b2b1b2493",
   "metadata": {},
   "outputs": [
    {
     "name": "stdout",
     "output_type": "stream",
     "text": [
      "...breakpoint hit at x3004\n",
      "============================================================\n",
      "Computation SUSPENDED\n",
      "============================================================\n",
      "Instructions: 34\n",
      "Cycles: 222 (0.000111 milliseconds)\n",
      "\n",
      "============================================================\n",
      "Registers:\n",
      "============================================================\n",
      "PC: x3004\n",
      "N: 0 Z: 0 P: 1 \n",
      "R0: x0000 R1: x0015 R2: x3106 R3: x0006 \n",
      "R4: x0004 R5: x0000 R6: x0000 R7: x0000 \n"
     ]
    }
   ],
   "source": [
    "%cont"
   ]
  },
  {
   "cell_type": "code",
   "execution_count": 70,
   "id": "c119c04d-8315-466b-84bd-607f1b57a807",
   "metadata": {},
   "outputs": [
    {
     "name": "stdout",
     "output_type": "stream",
     "text": [
      "\n",
      "Welcome to the LC-3 simulator.\n",
      "\n",
      "The contents of the LC-3 tools distribution, including sources, management\n",
      "tools, and data, are Copyright (c) 2003 Steven S. Lumetta.\n",
      "\n",
      "The LC-3 tools distribution is free software covered by the GNU General\n",
      "Public License, and you are welcome to modify it and/or distribute copies\n",
      "of it under certain conditions.  The file COPYING (distributed with the\n",
      "tools) specifies those conditions.  There is absolutely no warranty for\n",
      "the LC-3 tools distribution, as described in the file NO_WARRANTY (also\n",
      "distributed with the tools).\n",
      "\n",
      "Have fun.\n",
      "\n",
      "============================================================\n",
      "Registers:\n",
      "============================================================\n",
      "PC: x3000\n",
      "N: 0 Z: 1 P: 0 \n",
      "R0: x0000 R1: x0000 R2: x0000 R3: x0000 \n",
      "R4: x0000 R5: x0000 R6: x0000 R7: x0000 \n"
     ]
    }
   ],
   "source": [
    "%reset"
   ]
  },
  {
   "cell_type": "code",
   "execution_count": 113,
   "id": "676c4d80-e755-4f41-9787-f9d74457c46b",
   "metadata": {},
   "outputs": [
    {
     "name": "stdout",
     "output_type": "stream",
     "text": [
      "\n",
      "Welcome to the LC-3 simulator.\n",
      "\n",
      "The contents of the LC-3 tools distribution, including sources, management\n",
      "tools, and data, are Copyright (c) 2003 Steven S. Lumetta.\n",
      "\n",
      "The LC-3 tools distribution is free software covered by the GNU General\n",
      "Public License, and you are welcome to modify it and/or distribute copies\n",
      "of it under certain conditions.  The file COPYING (distributed with the\n",
      "tools) specifies those conditions.  There is absolutely no warranty for\n",
      "the LC-3 tools distribution, as described in the file NO_WARRANTY (also\n",
      "distributed with the tools).\n",
      "\n",
      "Have fun.\n",
      "\n",
      "============================================================\n",
      "Registers:\n",
      "============================================================\n",
      "PC: x3000\n",
      "N: 0 Z: 1 P: 0 \n",
      "R0: x0000 R1: x0000 R2: x0000 R3: x0000 \n",
      "R4: x0000 R5: x0000 R6: x0000 R7: x0000 \n"
     ]
    }
   ],
   "source": [
    "%reset"
   ]
  },
  {
   "cell_type": "code",
   "execution_count": 114,
   "id": "99111e6d-8fa5-4d0f-85d3-f9575ed6094d",
   "metadata": {},
   "outputs": [
    {
     "name": "stdout",
     "output_type": "stream",
     "text": [
      "\n",
      "============================================================\n",
      "Registers:\n",
      "============================================================\n",
      "PC: x3000\n",
      "N: 0 Z: 1 P: 0 \n",
      "R0: x0000 R1: x0001 R2: x0000 R3: x0000 \n",
      "R4: x0000 R5: x0000 R6: x0000 R7: x0000 \n"
     ]
    }
   ],
   "source": [
    "%reg 1 x0001"
   ]
  },
  {
   "cell_type": "code",
   "execution_count": 115,
   "id": "5d68c3c5-c135-439a-8fd4-bbf46be5aa13",
   "metadata": {},
   "outputs": [
    {
     "name": "stdout",
     "output_type": "stream",
     "text": [
      "Assembled! Use %dis or %dump to examine; use %exe to run.\n"
     ]
    }
   ],
   "source": [
    "0001 011 001 1 00001"
   ]
  },
  {
   "cell_type": "code",
   "execution_count": 116,
   "id": "812ebbde-bdd3-4aad-8268-da9964feb934",
   "metadata": {},
   "outputs": [
    {
     "name": "stdout",
     "output_type": "stream",
     "text": [
      "============================================================\n",
      "Memory dump:\n",
      "============================================================\n",
      "           x3000: x1661\n"
     ]
    }
   ],
   "source": [
    "%dis"
   ]
  },
  {
   "cell_type": "code",
   "execution_count": 118,
   "id": "ab13feda-a018-4329-a0c2-95bcef13338f",
   "metadata": {},
   "outputs": [
    {
     "name": "stdout",
     "output_type": "stream",
     "text": [
      "\n",
      "============================================================\n",
      "Registers:\n",
      "============================================================\n",
      "PC: x3000\n",
      "N: 0 Z: 1 P: 0 \n",
      "R0: x0000 R1: x0001 R2: x0000 R3: x0000 \n",
      "R4: x0000 R5: x0000 R6: x0000 R7: x0000 \n"
     ]
    }
   ],
   "source": [
    "%pc x3000"
   ]
  },
  {
   "cell_type": "code",
   "execution_count": 119,
   "id": "4112d5f5-9c4b-44fa-a0d6-0776cb0341c2",
   "metadata": {},
   "outputs": [
    {
     "name": "stdout",
     "output_type": "stream",
     "text": [
      "============================================================\n",
      "Stepping...  => read, <= write, (Instructions/Cycles):\n",
      "============================================================\n",
      "    PC <= x3001\n",
      "(1/6) ADD R3, R1, #1 [1] (x3001*: x1661)\n",
      "    R3 <= x0002\n",
      "    NZP <= (0, 0, 1)\n",
      "\n",
      "============================================================\n",
      "Registers:\n",
      "============================================================\n",
      "PC: x3001\n",
      "N: 0 Z: 0 P: 1 \n",
      "R0: x0000 R1: x0001 R2: x0000 R3: x0002 \n",
      "R4: x0000 R5: x0000 R6: x0000 R7: x0000 \n"
     ]
    }
   ],
   "source": [
    "%step"
   ]
  },
  {
   "cell_type": "code",
   "execution_count": 96,
   "id": "7d269ef1-f39d-40fd-903a-53e01552b270",
   "metadata": {},
   "outputs": [
    {
     "name": "stdout",
     "output_type": "stream",
     "text": [
      "============================================================\n",
      "Memory disassembled:\n",
      "============================================================\n",
      "           x3010: x0001 - 1 (or 1)\n"
     ]
    }
   ],
   "source": [
    "%mem x3010 x0001"
   ]
  },
  {
   "cell_type": "code",
   "execution_count": 94,
   "id": "cb1fbd08-52c4-4205-a50d-1bc9560d8677",
   "metadata": {},
   "outputs": [
    {
     "data": {
      "text/plain": [
       "This is the Calysto LC3 Jupyter kernel.\n",
       "\n",
       "LC3 Interactive Magic Directives: \n",
       "\n",
       " %bp [clear | SUSPENDHEX]           - show, clear, or set breakpoints\n",
       " %cont                              - continue running\n",
       " %dis [STARTHEX [STOPHEX]]          - dump memory as program\n",
       " %dump [STARTHEX [STOPHEX]]         - list memory in hex\n",
       " %exe                               - execute the program\n",
       " %mem HEXLOCATION HEXVALUE          - set memory\n",
       " %pc HEXVALUE                       - set PC\n",
       " %reg REG HEXVALUE                  - set register REG to HEXVALUE\n",
       " %regs                              - show registers\n",
       " %reset                             - reset LC3 to start state\n",
       " %step                              - execute the next instruction, increment PC\n",
       "\n",
       "HEX values begin with an 'x' and are composed of 4 0-F digits or letters.\n",
       "\n",
       "To get additional help on these items, use '%help %item'.\n",
       "\n",
       "To see additional magics, use %lsmagic, and put a question mark after a magic \n",
       "name.\n"
      ]
     },
     "metadata": {},
     "output_type": "display_data"
    }
   ],
   "source": [
    "%help"
   ]
  }
 ],
 "metadata": {
  "kernelspec": {
   "display_name": "Calysto LC3",
   "language": "asm",
   "name": "calysto_lc3"
  },
  "language_info": {
   "file_extension": ".asm",
   "mimetype": "text/x-gas",
   "name": "gas"
  }
 },
 "nbformat": 4,
 "nbformat_minor": 5
}
