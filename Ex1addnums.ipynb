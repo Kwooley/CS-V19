{
 "cells": [
  {
   "cell_type": "code",
   "execution_count": 1,
   "id": "a1421903-0342-47e7-bdfc-7d5a23f2adeb",
   "metadata": {},
   "outputs": [
    {
     "name": "stdout",
     "output_type": "stream",
     "text": [
      "Assembled! Use %dis or %dump to examine; use %exe to run.\n"
     ]
    }
   ],
   "source": [
    ".ORIG x3000\t; start the program at location x3000\n",
    "\tAND R1, R1, x0\t; clear R1, to be used for returning the sum\n",
    "\tAND R4, R4, x0\t; clear R4, to be used as a counter\n",
    "\tADD R4, R4, #10\t; load R4 with #10, the number of times to add\n",
    "\tLEA R2, x0FC\t; load the starting address of the data\n",
    "LOOP\t\n",
    "    LDR R3, R2, x0\t; load the next number to be added\n",
    "\tADD R2, R2, #1\t; increment the pointer\n",
    "\tADD R1, R1, R3\t; add the next number to the running sum\n",
    "\tADD R4, R4, #-1\t; decrement the counter\n",
    "\tBRp LOOP\t; do it again if the counter is not yet zero\n",
    "\tHALT\t; halt\n",
    ".END\t\n"
   ]
  },
  {
   "cell_type": "code",
   "execution_count": 2,
   "id": "8d9b60bc-89cd-4567-a489-1a37317e7da6",
   "metadata": {},
   "outputs": [
    {
     "name": "stdout",
     "output_type": "stream",
     "text": [
      "============================================================\n",
      "Memory dump:\n",
      "============================================================\n",
      "           x3000: x5260\n",
      "           x3001: x5920\n",
      "           x3002: x192A\n",
      "           x3003: xE4FC\n",
      "           x3004: x6680\n",
      "           x3005: x14A1\n",
      "           x3006: x1243\n",
      "           x3007: x193F\n",
      "           x3008: x03FB\n",
      "           x3009: xF025\n"
     ]
    }
   ],
   "source": [
    "%dump"
   ]
  },
  {
   "cell_type": "code",
   "execution_count": 3,
   "id": "221d6cd0-f4b7-4be5-ac7e-7173a899e1c3",
   "metadata": {},
   "outputs": [
    {
     "name": "stdout",
     "output_type": "stream",
     "text": [
      "============================================================\n",
      "Memory disassembled:\n",
      "============================================================\n",
      "           x3000: x5260  AND R1, R1, #0                            [line: 1]\n",
      "           x3001: x5920  AND R4, R4, #0                            [line: 2]\n",
      "           x3002: x192A  ADD R4, R4, #10                           [line: 3]\n",
      "           x3003: xE4FC  LEA R2, x3100                             [line: 4]\n",
      "LOOP:      x3004: x6680  LDR R3, R2, 0                             [line: 6]\n",
      "           x3005: x14A1  ADD R2, R2, #1                            [line: 7]\n",
      "           x3006: x1243  ADD R1, R1, R3                            [line: 8]\n",
      "           x3007: x193F  ADD R4, R4, #-1                           [line: 9]\n",
      "           x3008: x03FB  BRp LOOP                                  [line: 10]\n",
      "           x3009: xF025  HALT                                      [line: 11]\n"
     ]
    }
   ],
   "source": [
    "%dis"
   ]
  },
  {
   "cell_type": "code",
   "execution_count": 4,
   "id": "22070243-9a42-442b-8591-7fd2d8048b6f",
   "metadata": {},
   "outputs": [
    {
     "name": "stdout",
     "output_type": "stream",
     "text": [
      "Label Location\n",
      "LOOP: 0x3004\n",
      "{'LOOP': [[x3008, 511, 9]]}\n"
     ]
    }
   ],
   "source": [
    "%labels"
   ]
  },
  {
   "cell_type": "code",
   "execution_count": null,
   "id": "5204b5c1-0436-4c68-bea3-33567f918919",
   "metadata": {},
   "outputs": [],
   "source": []
  }
 ],
 "metadata": {
  "kernelspec": {
   "display_name": "Calysto LC3",
   "language": "asm",
   "name": "calysto_lc3"
  },
  "language_info": {
   "file_extension": ".asm",
   "mimetype": "text/x-gas",
   "name": "gas"
  }
 },
 "nbformat": 4,
 "nbformat_minor": 5
}
